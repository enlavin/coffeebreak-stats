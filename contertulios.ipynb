{
 "cells": [
  {
   "cell_type": "markdown",
   "metadata": {},
   "source": [
    "# CB:SyR es grande, y cada vez más\n",
    "\n",
    "Este notebook descarga el último feed del podcast *Coffee Break: Señal y Ruido* desde IVoox y calcula algunas estadísticas interesantes.\n",
    "    "
   ]
  },
  {
   "cell_type": "code",
   "execution_count": 9,
   "metadata": {},
   "outputs": [],
   "source": [
    "from coffeebreak import guests\n",
    "import matplotlib.pyplot as plt\n",
    "import numpy as np\n",
    "%matplotlib inline"
   ]
  },
  {
   "cell_type": "code",
   "execution_count": 10,
   "metadata": {},
   "outputs": [
    {
     "data": {
      "text/html": [
       "<div>\n",
       "<style scoped>\n",
       "    .dataframe tbody tr th:only-of-type {\n",
       "        vertical-align: middle;\n",
       "    }\n",
       "\n",
       "    .dataframe tbody tr th {\n",
       "        vertical-align: top;\n",
       "    }\n",
       "\n",
       "    .dataframe thead th {\n",
       "        text-align: right;\n",
       "    }\n",
       "</style>\n",
       "<table border=\"1\" class=\"dataframe\">\n",
       "  <thead>\n",
       "    <tr style=\"text-align: right;\">\n",
       "      <th></th>\n",
       "      <th>id</th>\n",
       "      <th>title</th>\n",
       "      <th>number</th>\n",
       "      <th>duration</th>\n",
       "      <th>length</th>\n",
       "      <th>guests</th>\n",
       "      <th>summary</th>\n",
       "      <th>guests_count</th>\n",
       "      <th>Héctor Socas</th>\n",
       "      <th>Alicia López</th>\n",
       "      <th>...</th>\n",
       "      <th>Eva</th>\n",
       "      <th>Nahúm Chazarra</th>\n",
       "      <th>David Kipping</th>\n",
       "      <th>Raul Infante</th>\n",
       "      <th>Nacho Trujillo</th>\n",
       "      <th>Marian Griso</th>\n",
       "      <th>Alfred Rosenberg</th>\n",
       "      <th>Francis Villatoro</th>\n",
       "      <th>Miguel Santander</th>\n",
       "      <th>Eva Villaver</th>\n",
       "    </tr>\n",
       "  </thead>\n",
       "  <tbody>\n",
       "    <tr>\n",
       "      <th>0</th>\n",
       "      <td>EP01</td>\n",
       "      <td>Coffee Break Podcast Ep01</td>\n",
       "      <td>1</td>\n",
       "      <td>2498</td>\n",
       "      <td>19985180</td>\n",
       "      <td>[Héctor Socas, Juanjo Martín, Alfred Rosenberg...</td>\n",
       "      <td>(Por un problema técnico no se escucha bien la...</td>\n",
       "      <td>5</td>\n",
       "      <td>1</td>\n",
       "      <td>0</td>\n",
       "      <td>...</td>\n",
       "      <td>0</td>\n",
       "      <td>0</td>\n",
       "      <td>0</td>\n",
       "      <td>0</td>\n",
       "      <td>0</td>\n",
       "      <td>0</td>\n",
       "      <td>1</td>\n",
       "      <td>0</td>\n",
       "      <td>0</td>\n",
       "      <td>0</td>\n",
       "    </tr>\n",
       "    <tr>\n",
       "      <th>1</th>\n",
       "      <td>EP02</td>\n",
       "      <td>Coffee Break Podcast Ep02</td>\n",
       "      <td>2</td>\n",
       "      <td>3141</td>\n",
       "      <td>25130477</td>\n",
       "      <td>[Jose Ramón Arévalo, Alfred Rosenberg, Nayra R...</td>\n",
       "      <td>La tertulia semanal en la que nos echamos unas...</td>\n",
       "      <td>5</td>\n",
       "      <td>1</td>\n",
       "      <td>0</td>\n",
       "      <td>...</td>\n",
       "      <td>0</td>\n",
       "      <td>0</td>\n",
       "      <td>0</td>\n",
       "      <td>0</td>\n",
       "      <td>0</td>\n",
       "      <td>0</td>\n",
       "      <td>1</td>\n",
       "      <td>0</td>\n",
       "      <td>0</td>\n",
       "      <td>0</td>\n",
       "    </tr>\n",
       "    <tr>\n",
       "      <th>2</th>\n",
       "      <td>EP03</td>\n",
       "      <td>Coffee Break Podcast Ep03</td>\n",
       "      <td>3</td>\n",
       "      <td>3198</td>\n",
       "      <td>25589347</td>\n",
       "      <td>[Héctor Socas, Jose Ramón Arévalo, Manolo Vázq...</td>\n",
       "      <td>La tertulia semanal sobre la actualidad cientí...</td>\n",
       "      <td>3</td>\n",
       "      <td>1</td>\n",
       "      <td>0</td>\n",
       "      <td>...</td>\n",
       "      <td>0</td>\n",
       "      <td>0</td>\n",
       "      <td>0</td>\n",
       "      <td>0</td>\n",
       "      <td>0</td>\n",
       "      <td>0</td>\n",
       "      <td>0</td>\n",
       "      <td>0</td>\n",
       "      <td>0</td>\n",
       "      <td>0</td>\n",
       "    </tr>\n",
       "    <tr>\n",
       "      <th>3</th>\n",
       "      <td>EP04</td>\n",
       "      <td>Coffee Break Podcast Ep04</td>\n",
       "      <td>4</td>\n",
       "      <td>2923</td>\n",
       "      <td>23390084</td>\n",
       "      <td>[Manolo Vázquez, Alfred Rosenberg, Nayra Rodrí...</td>\n",
       "      <td>La tertulia semanal sobre la actualidad cientí...</td>\n",
       "      <td>4</td>\n",
       "      <td>1</td>\n",
       "      <td>0</td>\n",
       "      <td>...</td>\n",
       "      <td>0</td>\n",
       "      <td>0</td>\n",
       "      <td>0</td>\n",
       "      <td>0</td>\n",
       "      <td>0</td>\n",
       "      <td>0</td>\n",
       "      <td>1</td>\n",
       "      <td>0</td>\n",
       "      <td>0</td>\n",
       "      <td>0</td>\n",
       "    </tr>\n",
       "    <tr>\n",
       "      <th>4</th>\n",
       "      <td>EP05</td>\n",
       "      <td>Coffee Break Podcast Ep05</td>\n",
       "      <td>5</td>\n",
       "      <td>5999</td>\n",
       "      <td>48007315</td>\n",
       "      <td>[Manolo Vázquez, Héctor Socas]</td>\n",
       "      <td>La tertulia semanal sobre la actualidad cientí...</td>\n",
       "      <td>2</td>\n",
       "      <td>1</td>\n",
       "      <td>0</td>\n",
       "      <td>...</td>\n",
       "      <td>0</td>\n",
       "      <td>0</td>\n",
       "      <td>0</td>\n",
       "      <td>0</td>\n",
       "      <td>0</td>\n",
       "      <td>0</td>\n",
       "      <td>0</td>\n",
       "      <td>0</td>\n",
       "      <td>0</td>\n",
       "      <td>0</td>\n",
       "    </tr>\n",
       "    <tr>\n",
       "      <th>...</th>\n",
       "      <td>...</td>\n",
       "      <td>...</td>\n",
       "      <td>...</td>\n",
       "      <td>...</td>\n",
       "      <td>...</td>\n",
       "      <td>...</td>\n",
       "      <td>...</td>\n",
       "      <td>...</td>\n",
       "      <td>...</td>\n",
       "      <td>...</td>\n",
       "      <td>...</td>\n",
       "      <td>...</td>\n",
       "      <td>...</td>\n",
       "      <td>...</td>\n",
       "      <td>...</td>\n",
       "      <td>...</td>\n",
       "      <td>...</td>\n",
       "      <td>...</td>\n",
       "      <td>...</td>\n",
       "      <td>...</td>\n",
       "      <td>...</td>\n",
       "    </tr>\n",
       "    <tr>\n",
       "      <th>245</th>\n",
       "      <td>EP256</td>\n",
       "      <td>Ep256: Coronavirus; Cosmología; Nefertiti; Ant...</td>\n",
       "      <td>256</td>\n",
       "      <td>10564</td>\n",
       "      <td>84513271</td>\n",
       "      <td>[María Ribes, Héctor Vives, Ignacio Crespo, Ca...</td>\n",
       "      <td>La tertulia semanal en la que repasamos las úl...</td>\n",
       "      <td>6</td>\n",
       "      <td>1</td>\n",
       "      <td>0</td>\n",
       "      <td>...</td>\n",
       "      <td>0</td>\n",
       "      <td>0</td>\n",
       "      <td>0</td>\n",
       "      <td>0</td>\n",
       "      <td>0</td>\n",
       "      <td>0</td>\n",
       "      <td>0</td>\n",
       "      <td>0</td>\n",
       "      <td>0</td>\n",
       "      <td>0</td>\n",
       "    </tr>\n",
       "    <tr>\n",
       "      <th>246</th>\n",
       "      <td>EP257</td>\n",
       "      <td>Ep257: Marte; Freeman Dyson; Dark Energy Surve...</td>\n",
       "      <td>257</td>\n",
       "      <td>11558</td>\n",
       "      <td>92469124</td>\n",
       "      <td>[Héctor Vives, Sara Robisco, Francis Villatoro...</td>\n",
       "      <td>La tertulia semanal en la que repasamos las úl...</td>\n",
       "      <td>5</td>\n",
       "      <td>1</td>\n",
       "      <td>0</td>\n",
       "      <td>...</td>\n",
       "      <td>0</td>\n",
       "      <td>0</td>\n",
       "      <td>0</td>\n",
       "      <td>0</td>\n",
       "      <td>0</td>\n",
       "      <td>0</td>\n",
       "      <td>0</td>\n",
       "      <td>1</td>\n",
       "      <td>0</td>\n",
       "      <td>0</td>\n",
       "    </tr>\n",
       "    <tr>\n",
       "      <th>247</th>\n",
       "      <td>EP258</td>\n",
       "      <td>Ep258: Cosmología; Física de Partículas; Dryas...</td>\n",
       "      <td>258</td>\n",
       "      <td>7516</td>\n",
       "      <td>60135802</td>\n",
       "      <td>[Alberto Aparici, Francis Villatoro, Carlos We...</td>\n",
       "      <td>La tertulia semanal en la que repasamos las úl...</td>\n",
       "      <td>4</td>\n",
       "      <td>1</td>\n",
       "      <td>0</td>\n",
       "      <td>...</td>\n",
       "      <td>0</td>\n",
       "      <td>0</td>\n",
       "      <td>0</td>\n",
       "      <td>0</td>\n",
       "      <td>0</td>\n",
       "      <td>0</td>\n",
       "      <td>0</td>\n",
       "      <td>1</td>\n",
       "      <td>0</td>\n",
       "      <td>0</td>\n",
       "    </tr>\n",
       "    <tr>\n",
       "      <th>248</th>\n",
       "      <td>EP259</td>\n",
       "      <td>Ep259: Exomars 2022; Dinosaurios; Coronavirus</td>\n",
       "      <td>259</td>\n",
       "      <td>14580</td>\n",
       "      <td>116642839</td>\n",
       "      <td>[Sara Robisco, Héctor Socas, Francis Villatoro...</td>\n",
       "      <td>La tertulia semanal en la que repasamos las úl...</td>\n",
       "      <td>6</td>\n",
       "      <td>1</td>\n",
       "      <td>0</td>\n",
       "      <td>...</td>\n",
       "      <td>0</td>\n",
       "      <td>0</td>\n",
       "      <td>0</td>\n",
       "      <td>0</td>\n",
       "      <td>0</td>\n",
       "      <td>0</td>\n",
       "      <td>0</td>\n",
       "      <td>1</td>\n",
       "      <td>0</td>\n",
       "      <td>0</td>\n",
       "    </tr>\n",
       "    <tr>\n",
       "      <th>249</th>\n",
       "      <td>EP260</td>\n",
       "      <td>Ep260: Premios Abel; Superfulguraciones; Emoci...</td>\n",
       "      <td>260</td>\n",
       "      <td>13501</td>\n",
       "      <td>108014071</td>\n",
       "      <td>[Alberto Aparici, Francis Villatoro, María Rib...</td>\n",
       "      <td>La tertulia semanal en la que repasamos las úl...</td>\n",
       "      <td>6</td>\n",
       "      <td>1</td>\n",
       "      <td>0</td>\n",
       "      <td>...</td>\n",
       "      <td>0</td>\n",
       "      <td>0</td>\n",
       "      <td>0</td>\n",
       "      <td>0</td>\n",
       "      <td>0</td>\n",
       "      <td>0</td>\n",
       "      <td>0</td>\n",
       "      <td>1</td>\n",
       "      <td>0</td>\n",
       "      <td>0</td>\n",
       "    </tr>\n",
       "  </tbody>\n",
       "</table>\n",
       "<p>250 rows × 88 columns</p>\n",
       "</div>"
      ],
      "text/plain": [
       "        id                                              title  number  \\\n",
       "0     EP01                          Coffee Break Podcast Ep01       1   \n",
       "1     EP02                          Coffee Break Podcast Ep02       2   \n",
       "2     EP03                          Coffee Break Podcast Ep03       3   \n",
       "3     EP04                          Coffee Break Podcast Ep04       4   \n",
       "4     EP05                          Coffee Break Podcast Ep05       5   \n",
       "..     ...                                                ...     ...   \n",
       "245  EP256  Ep256: Coronavirus; Cosmología; Nefertiti; Ant...     256   \n",
       "246  EP257  Ep257: Marte; Freeman Dyson; Dark Energy Surve...     257   \n",
       "247  EP258  Ep258: Cosmología; Física de Partículas; Dryas...     258   \n",
       "248  EP259      Ep259: Exomars 2022; Dinosaurios; Coronavirus     259   \n",
       "249  EP260  Ep260: Premios Abel; Superfulguraciones; Emoci...     260   \n",
       "\n",
       "     duration     length                                             guests  \\\n",
       "0        2498   19985180  [Héctor Socas, Juanjo Martín, Alfred Rosenberg...   \n",
       "1        3141   25130477  [Jose Ramón Arévalo, Alfred Rosenberg, Nayra R...   \n",
       "2        3198   25589347  [Héctor Socas, Jose Ramón Arévalo, Manolo Vázq...   \n",
       "3        2923   23390084  [Manolo Vázquez, Alfred Rosenberg, Nayra Rodrí...   \n",
       "4        5999   48007315                     [Manolo Vázquez, Héctor Socas]   \n",
       "..        ...        ...                                                ...   \n",
       "245     10564   84513271  [María Ribes, Héctor Vives, Ignacio Crespo, Ca...   \n",
       "246     11558   92469124  [Héctor Vives, Sara Robisco, Francis Villatoro...   \n",
       "247      7516   60135802  [Alberto Aparici, Francis Villatoro, Carlos We...   \n",
       "248     14580  116642839  [Sara Robisco, Héctor Socas, Francis Villatoro...   \n",
       "249     13501  108014071  [Alberto Aparici, Francis Villatoro, María Rib...   \n",
       "\n",
       "                                               summary  guests_count  \\\n",
       "0    (Por un problema técnico no se escucha bien la...             5   \n",
       "1    La tertulia semanal en la que nos echamos unas...             5   \n",
       "2    La tertulia semanal sobre la actualidad cientí...             3   \n",
       "3    La tertulia semanal sobre la actualidad cientí...             4   \n",
       "4    La tertulia semanal sobre la actualidad cientí...             2   \n",
       "..                                                 ...           ...   \n",
       "245  La tertulia semanal en la que repasamos las úl...             6   \n",
       "246  La tertulia semanal en la que repasamos las úl...             5   \n",
       "247  La tertulia semanal en la que repasamos las úl...             4   \n",
       "248  La tertulia semanal en la que repasamos las úl...             6   \n",
       "249  La tertulia semanal en la que repasamos las úl...             6   \n",
       "\n",
       "     Héctor Socas  Alicia López  ...  Eva  Nahúm Chazarra  David Kipping  \\\n",
       "0               1             0  ...    0               0              0   \n",
       "1               1             0  ...    0               0              0   \n",
       "2               1             0  ...    0               0              0   \n",
       "3               1             0  ...    0               0              0   \n",
       "4               1             0  ...    0               0              0   \n",
       "..            ...           ...  ...  ...             ...            ...   \n",
       "245             1             0  ...    0               0              0   \n",
       "246             1             0  ...    0               0              0   \n",
       "247             1             0  ...    0               0              0   \n",
       "248             1             0  ...    0               0              0   \n",
       "249             1             0  ...    0               0              0   \n",
       "\n",
       "     Raul Infante  Nacho Trujillo  Marian Griso  Alfred Rosenberg  \\\n",
       "0               0               0             0                 1   \n",
       "1               0               0             0                 1   \n",
       "2               0               0             0                 0   \n",
       "3               0               0             0                 1   \n",
       "4               0               0             0                 0   \n",
       "..            ...             ...           ...               ...   \n",
       "245             0               0             0                 0   \n",
       "246             0               0             0                 0   \n",
       "247             0               0             0                 0   \n",
       "248             0               0             0                 0   \n",
       "249             0               0             0                 0   \n",
       "\n",
       "     Francis Villatoro  Miguel Santander  Eva Villaver  \n",
       "0                    0                 0             0  \n",
       "1                    0                 0             0  \n",
       "2                    0                 0             0  \n",
       "3                    0                 0             0  \n",
       "4                    0                 0             0  \n",
       "..                 ...               ...           ...  \n",
       "245                  0                 0             0  \n",
       "246                  1                 0             0  \n",
       "247                  1                 0             0  \n",
       "248                  1                 0             0  \n",
       "249                  1                 0             0  \n",
       "\n",
       "[250 rows x 88 columns]"
      ]
     },
     "execution_count": 10,
     "metadata": {},
     "output_type": "execute_result"
    }
   ],
   "source": [
    "# Enable the wants_guest_columns=True to get a numeric column for each guest\n",
    "eps = guests.to_df(guests.load_episodes(), wants_guest_columns=True)\n",
    "#eps = guests.to_df(guests.load_episodes())\n",
    "eps = eps[(eps['number'] != -1)]\n",
    "eps = eps[(eps['guests_count'] != 0)]\n",
    "eps = eps.iloc[::-1].reset_index(drop=True)\n",
    "eps\n"
   ]
  },
  {
   "cell_type": "markdown",
   "metadata": {},
   "source": [
    "## Duración de los episodios en el tiempo"
   ]
  },
  {
   "cell_type": "code",
   "execution_count": 3,
   "metadata": {
    "scrolled": true
   },
   "outputs": [
    {
     "data": {
      "image/png": "[encoded data removed]",
      "text/plain": [
       "<Figure size 432x288 with 1 Axes>"
      ]
     },
     "metadata": {
      "needs_background": "light"
     },
     "output_type": "display_data"
    }
   ],
   "source": [
    "fig = plt.figure()\n",
    "ax = plt.axes()\n",
    "\n",
    "ax.plot(eps['number'], eps[\"duration\"]);\n",
    "\n"
   ]
  },
  {
   "cell_type": "markdown",
   "metadata": {},
   "source": [
    "## Histograma de las duraciones de cada episodio."
   ]
  },
  {
   "cell_type": "code",
   "execution_count": 4,
   "metadata": {},
   "outputs": [
    {
     "data": {
      "image/png": "[encoded data removed]",
      "text/plain": [
       "<Figure size 432x288 with 1 Axes>"
      ]
     },
     "metadata": {
      "needs_background": "light"
     },
     "output_type": "display_data"
    }
   ],
   "source": [
    "ax = eps['duration'].plot.hist(bins=20, alpha=0.5)"
   ]
  },
  {
   "cell_type": "markdown",
   "metadata": {},
   "source": [
    "## Histograma del número de contertulios participando en cada programa"
   ]
  },
  {
   "cell_type": "code",
   "execution_count": 5,
   "metadata": {
    "scrolled": true
   },
   "outputs": [
    {
     "data": {
      "image/png": "[encoded data removed]",
      "text/plain": [
       "<Figure size 432x288 with 1 Axes>"
      ]
     },
     "metadata": {
      "needs_background": "light"
     },
     "output_type": "display_data"
    }
   ],
   "source": [
    "ax = eps['guests_count'].plot.hist(bins=20, alpha=0.5)"
   ]
  },
  {
   "cell_type": "markdown",
   "metadata": {},
   "source": [
    "## Relación entre el número de contertulios y la duración de los programas"
   ]
  },
  {
   "cell_type": "code",
   "execution_count": 6,
   "metadata": {},
   "outputs": [
    {
     "data": {
      "image/png": "[encoded data removed]",
      "text/plain": [
       "<Figure size 432x288 with 1 Axes>"
      ]
     },
     "metadata": {
      "needs_background": "light"
     },
     "output_type": "display_data"
    }
   ],
   "source": [
    "crowdedness = eps.groupby('guests_count').mean()\n",
    "fig = plt.figure()\n",
    "ax = plt.axes()\n",
    "\n",
    "ax.plot(crowdedness.index, crowdedness['duration']);"
   ]
  },
  {
   "cell_type": "code",
   "execution_count": 7,
   "metadata": {},
   "outputs": [
    {
     "data": {
      "image/png": "[encoded data removed]",
      "text/plain": [
       "<Figure size 432x288 with 1 Axes>"
      ]
     },
     "metadata": {
      "needs_background": "light"
     },
     "output_type": "display_data"
    }
   ],
   "source": [
    "ax1 = eps.plot.scatter(x='guests_count',\n",
    "                       y='duration',\n",
    "                       c='DarkBlue')"
   ]
  },
  {
   "cell_type": "code",
   "execution_count": null,
   "metadata": {},
   "outputs": [],
   "source": []
  }
 ],
 "metadata": {
  "kernelspec": {
   "display_name": "Python 3",
   "language": "python",
   "name": "python3"
  },
  "language_info": {
   "codemirror_mode": {
    "name": "ipython",
    "version": 3
   },
   "file_extension": ".py",
   "mimetype": "text/x-python",
   "name": "python",
   "nbconvert_exporter": "python",
   "pygments_lexer": "ipython3",
   "version": "3.6.9"
  }
 },
 "nbformat": 4,
 "nbformat_minor": 4
}
